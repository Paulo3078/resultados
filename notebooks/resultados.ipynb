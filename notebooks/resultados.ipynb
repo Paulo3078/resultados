{
  "nbformat": 4,
  "nbformat_minor": 0,
  "metadata": {
    "colab": {
      "provenance": []
    },
    "kernelspec": {
      "name": "python3",
      "display_name": "Python 3"
    },
    "language_info": {
      "name": "python"
    }
  },
  "cells": [
    {
      "cell_type": "markdown",
      "source": [
        "## Questão 1\n",
        "\n",
        "Observe o trecho de código abaixo: int INDICE = 13, SOMA = 0, K = 0;\n",
        "Enquanto K < INDICE faça { K = K + 1; SOMA = SOMA + K; }\n",
        "Imprimir(SOMA);\n",
        "Ao final do processamento, qual será o valor da variável SOMA?\n",
        "\n",
        "\n"
      ],
      "metadata": {
        "id": "LJ4oZHpQlKtR"
      }
    },
    {
      "cell_type": "code",
      "execution_count": null,
      "metadata": {
        "colab": {
          "base_uri": "https://localhost:8080/"
        },
        "id": "TA3WtC5OjKpv",
        "outputId": "596bb37d-6a84-49e7-866c-9250b9f47e7e"
      },
      "outputs": [
        {
          "output_type": "stream",
          "name": "stdout",
          "text": [
            "A variável SOMA finaliza o processo com o valor 91. Detalhe: esse código soma os todos os números naturais de 0 ao índice (nesse caso, 13).\n"
          ]
        }
      ],
      "source": [
        "while K < INDICE: #cria o laço com a estrutura while\n",
        "    K = K + 1\n",
        "    SOMA = SOMA + K\n",
        "\n",
        "print(f'A variável SOMA finaliza o processo com o valor {SOMA}. Detalhe: esse código soma os todos os números naturais de 0 ao índice (nesse caso, 13).') #imprime o resultado\n"
      ]
    },
    {
      "cell_type": "markdown",
      "source": [
        "## Questão 2\n",
        "\n",
        "Dado a sequência de Fibonacci, onde se inicia por 0 e 1 e o próximo valor sempre será a soma dos 2 valores anteriores (exemplo: 0, 1, 1, 2, 3, 5, 8, 13, 21, 34...), escreva um programa na linguagem que desejar onde, informado um número, ele calcule a sequência de Fibonacci e retorne uma mensagem avisando se o número informado pertence ou não a sequência."
      ],
      "metadata": {
        "id": "cUnbJd7jlif8"
      }
    },
    {
      "cell_type": "code",
      "source": [
        "#criaremos um função para criar a sequencia\n",
        "def fibonacci(n):\n",
        "  a,b = 0,1 #define os valores iniciais\n",
        "  sequencia = [a,b] #cria a lista\n",
        "  while b <= n:\n",
        "    a,b = b, a+b #adiciona as regras para gerar os valores\n",
        "    sequencia.append(b) #adiciona a soma dos últimos dois valores à lista\n",
        "  return sequencia, n in sequencia #retorna a lista e verifica se o número pertence a sequência\n",
        "\n",
        "N = int(input('Vamos verificar se um número pertence a sequência de Fibonacci: '))\n",
        "\n",
        "sequencia, pertence = fibonacci(N)\n",
        "\n",
        "print(f'A sequência de Fibonacci até {N} é: {sequencia}')\n",
        "\n",
        "if pertence:\n",
        "  print(f'O número {N} pertence à sequência de Fibonacci.')\n",
        "else:\n",
        "  print(f'O número {N} não pertence à sequência de Fibonacci.')"
      ],
      "metadata": {
        "colab": {
          "base_uri": "https://localhost:8080/"
        },
        "id": "EqRYfklij9kB",
        "outputId": "9a0be6d8-a4c6-4f27-ff0a-37c55a1a1d37"
      },
      "execution_count": null,
      "outputs": [
        {
          "output_type": "stream",
          "name": "stdout",
          "text": [
            "Digite um número para verificar se ele pertence a sequência de Fibonacci: 13\n",
            "A sequência de Fibonacci até 13 é: [0, 1, 1, 2, 3, 5, 8, 13, 21]\n",
            "O número 13 pertence à sequência de Fibonacci.\n"
          ]
        }
      ]
    },
    {
      "cell_type": "markdown",
      "source": [
        "## Questão 3\n",
        "\n",
        "Dado um vetor que guarda o valor de faturamento diário de uma distribuidora, faça um programa, na linguagem que desejar, que calcule e retorne:\n",
        "\n",
        "• O menor valor de faturamento ocorrido em um dia do mês;\n",
        "\n",
        "• O maior valor de faturamento ocorrido em um dia do mês;\n",
        "\n",
        "• Número de dias no mês em que o valor de faturamento diário foi superior à média mensal."
      ],
      "metadata": {
        "id": "y2PjNZTZwKq7"
      }
    },
    {
      "cell_type": "code",
      "source": [
        "import json\n",
        "\n",
        "def calc_faturamento(caminho): #cria a função para calcular\n",
        "    #ler o arquivo\n",
        "    with open(caminho, 'r') as file:\n",
        "        dados = json.load(file)\n",
        "\n",
        "    faturamento_diario = dados['faturamento']\n",
        "\n",
        "    #extrai os valores de faturamento ignorando dias sem faturamento\n",
        "    valores_faturamento =[item['valor'] for item in faturamento_diario if item['valor'] > 0 ]\n",
        "\n",
        "    if not valores_faturamento:\n",
        "        return \"Não há faturamento a ser analisado.\" #condição para caso todos os dias não tenham faturamento\n",
        "\n",
        "    #calcula as métricas requisitadas\n",
        "    menor_faturamento = min(valores_faturamento)\n",
        "    maior_faturamento = max(valores_faturamento)\n",
        "    media_faturamento = sum(valores_faturamento)/  len(valores_faturamento)\n",
        "    dias_AM = sum(1 for valor in valores_faturamento if valor > media_faturamento)\n",
        "\n",
        "    #resultados\n",
        "    return {\n",
        "        \"menor_faturamento\":menor_faturamento,\n",
        "        \"maior_faturamento\":maior_faturamento,\n",
        "        \"dias_acima_media\": dias_AM }\n",
        "\n",
        "caminho =  'faturamento.json'\n",
        "resultados = calc_faturamento(caminho)\n",
        "\n",
        "#mostra os resultados obtivos pela função\n",
        "print(\"Menor faturamento: \" , resultados[\"menor_faturamento\"])\n",
        "print(\"Maior faturamento: \" , resultados[\"maior_faturamento\"])\n",
        "print(\"Número de dias com faturamento acima da média: \" , resultados[\"dias_acima_media\"])"
      ],
      "metadata": {
        "id": "qXzhV82DsVvn"
      },
      "execution_count": null,
      "outputs": []
    },
    {
      "cell_type": "markdown",
      "source": [
        "## Questão 4\n",
        "\n",
        "Dado o valor de faturamento mensal de uma distribuidora, detalhado por estado:\n",
        "\n",
        "• SP : R$67.836,43\n",
        "\n",
        "• RJ : R$36.678,66\n",
        "\n",
        "• MG : R$29.229,88\n",
        "\n",
        "• ES : R$27.165,48\n",
        "\n",
        "• Outros : R$19.849,53\n",
        "\n",
        "Escreva um programa na linguagem que desejar onde calcule o percentual de representação que cada estado teve dentro do valor total mensal da distribuidora."
      ],
      "metadata": {
        "id": "TBw_3syH2ePD"
      }
    },
    {
      "cell_type": "code",
      "source": [
        "#vamos colocar os valores de faturamento num dicionário\n",
        "\n",
        "faturamento = {\n",
        "    'SP': 67836.43,\n",
        "    'RJ': 36678.66,\n",
        "    'MG': 29229.88,\n",
        "    'ES': 27165.48,\n",
        "    'Outros': 19849.53}\n",
        "\n",
        "#calcularemos as métricas\n",
        "total_faturamento = sum(faturamento.values())\n",
        "porcentagens = {estado: (valor/total_faturamento) * 100 for estado, valor in faturamento.items()}\n",
        "\n",
        "#imprimiremos os resultados\n",
        "print(\"Percentual de representação de cada estado: \")\n",
        "for estado , porcentagem in porcentagens.items():\n",
        "    print(f\"{estado}: {porcentagem:.2f}%\")"
      ],
      "metadata": {
        "colab": {
          "base_uri": "https://localhost:8080/"
        },
        "id": "k6fDWckj1mlz",
        "outputId": "a7fcae4a-3a43-4ae6-bd59-3cad8f4832f4"
      },
      "execution_count": null,
      "outputs": [
        {
          "output_type": "stream",
          "name": "stdout",
          "text": [
            "Percentual de representação de cada estado: \n",
            "SP: 37.53%\n",
            "RJ: 20.29%\n",
            "MG: 16.17%\n",
            "ES: 15.03%\n",
            "Outros: 10.98%\n"
          ]
        }
      ]
    },
    {
      "cell_type": "markdown",
      "source": [
        "## Questão 5\n",
        "\n",
        " Escreva um programa que inverta os caracteres de um string."
      ],
      "metadata": {
        "id": "8Fo7YWzU4peu"
      }
    },
    {
      "cell_type": "code",
      "source": [
        "string = input('Digite uma string: ') #recebe a string\n",
        "\n",
        "string_invertida = string[::-1] #inverte a string\n",
        "\n",
        "print(f'A string invertida é: {string_invertida}')#imprime o resultado"
      ],
      "metadata": {
        "id": "M8dR6dd_3rvl",
        "colab": {
          "base_uri": "https://localhost:8080/"
        },
        "outputId": "d8cde5e1-2562-4f25-b2a7-9017514698c5"
      },
      "execution_count": 11,
      "outputs": [
        {
          "output_type": "stream",
          "name": "stdout",
          "text": [
            "Digite uma string: Eu sou o goku\n",
            "A string invertida é: ukog o uos uE\n"
          ]
        }
      ]
    },
    {
      "cell_type": "code",
      "source": [],
      "metadata": {
        "id": "eqvhdO3Y49pb"
      },
      "execution_count": null,
      "outputs": []
    }
  ]
}
